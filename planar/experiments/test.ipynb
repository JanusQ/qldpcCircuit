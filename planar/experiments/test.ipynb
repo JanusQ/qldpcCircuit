{
 "cells": [
  {
   "cell_type": "code",
   "execution_count": 1,
   "metadata": {},
   "outputs": [],
   "source": [
    "import time\n",
    "import numpy as np\n",
    "from pymatching import Matching\n",
    "import sys\n",
    "from os.path import abspath, dirname\n",
    "sys.path.append(abspath(dirname('test')).strip('experiments'))\n",
    "from planar import Planar_rep_cir, subsamples\n",
    "from codes import rep_cir\n",
    "import stim"
   ]
  },
  {
   "cell_type": "code",
   "execution_count": 2,
   "metadata": {},
   "outputs": [],
   "source": [
    "# MWPM decoding utilizing Pymatching\n",
    "\n",
    "# Directly use the pymatching to decode DEM\n",
    "def count_logical_errors(detector_error_model, detection_events, observable_flips):\n",
    "    # Sample the circuit.\n",
    "    num_shots = detection_events.shape[0]\n",
    "    matcher = Matching.from_detector_error_model(detector_error_model)\n",
    "\n",
    "    # Run the decoder.\n",
    "    predictions = matcher.decode_batch(detection_events).squeeze()\n",
    "    # Count the mistakes.\n",
    "    num_errors = 0\n",
    "    for shot in range(num_shots):\n",
    "        actual_for_shot = observable_flips[shot][0]\n",
    "        predicted_for_shot = predictions[shot]\n",
    "        # print(actual_for_shot, predicted_for_shot)\n",
    "        if not np.array_equal(actual_for_shot, predicted_for_shot):\n",
    "            num_errors += 1\n",
    "    return num_errors\n",
    "\n",
    "# Use pymatching to decode DEM-code (consider the DEM as a code with code capacity noise)\n",
    "def mwpm(pcm, lx, error_rates, syndrome):\n",
    "    weights = np.log((1-np.array(error_rates))/np.array(error_rates))\n",
    "    decoder = Matching(pcm, weights=weights)\n",
    "    recover = decoder.decode(syndrome)\n",
    "    L = (lx@recover.T)%2\n",
    "    return L"
   ]
  },
  {
   "cell_type": "markdown",
   "metadata": {},
   "source": [
    "# Simulation Rep-CLD"
   ]
  },
  {
   "cell_type": "code",
   "execution_count": 3,
   "metadata": {},
   "outputs": [
    {
     "name": "stdout",
     "output_type": "stream",
     "text": [
      "PCM(Hx) size:\n",
      " (8, 21)\n",
      "Hz xize:\n",
      " (12, 21)\n",
      "Commutation relation\n",
      " [[0. 0. 0. 0. 0. 0. 0. 0. 0. 0. 0. 0.]\n",
      " [0. 0. 0. 0. 0. 0. 0. 0. 0. 0. 0. 0.]\n",
      " [0. 0. 0. 0. 0. 0. 0. 0. 0. 0. 0. 0.]\n",
      " [0. 0. 0. 0. 0. 0. 0. 0. 0. 0. 0. 0.]\n",
      " [0. 0. 0. 0. 0. 0. 0. 0. 0. 0. 0. 0.]\n",
      " [0. 0. 0. 0. 0. 0. 0. 0. 0. 0. 0. 0.]\n",
      " [0. 0. 0. 0. 0. 0. 0. 0. 0. 0. 0. 0.]\n",
      " [0. 0. 0. 0. 0. 0. 0. 0. 0. 0. 0. 0.]]\n"
     ]
    }
   ],
   "source": [
    "d = 3 # distance\n",
    "r = 3 # rounds\n",
    "error_prob = 0.05 # probability of errors generation\n",
    "trial_num = 1000\n",
    "\n",
    "#circuit\n",
    "circuit = stim.Circuit.generated(code_task=\"repetition_code:memory\",\n",
    "                                        distance=d,\n",
    "                                        rounds=r,\n",
    "                                        after_clifford_depolarization=error_prob,\n",
    "                                        before_measure_flip_probability=error_prob,\n",
    "                                        after_reset_flip_probability=error_prob,\n",
    "                                        )\n",
    "\n",
    "# detector error model\n",
    "dem = circuit.detector_error_model(decompose_errors=False, flatten_loops=True)\n",
    "# define the DEM-code\n",
    "rep = rep_cir(d, r)\n",
    "rep.reorder(dem)\n",
    "\n",
    "print('PCM(Hx) size:\\n', rep.hx.shape)\n",
    "print('Hz xize:\\n', rep.hz.shape)\n",
    "print('Commutation relation\\n', rep.hx@rep.hz.T%2)"
   ]
  },
  {
   "cell_type": "code",
   "execution_count": 4,
   "metadata": {},
   "outputs": [
    {
     "name": "stdout",
     "output_type": "stream",
     "text": [
      "number of numerical errors 0\n",
      "directly pym result: 0.068\n",
      "pym result: 0.068\n",
      "planar result: 0.064\n",
      "decoding time of planar: 0.0025665260516107083\n"
     ]
    }
   ],
   "source": [
    "# define planar decoder\n",
    "planar_decoder = Planar_rep_cir(rep.hx, rep.hz, rep.lx, rep.lz)\n",
    "# extract priori probabilities from dem\n",
    "num_ems = dem.num_errors   \n",
    "er = []\n",
    "for i in range(num_ems):\n",
    "    er.append(dem[i].args_copy()[0])\n",
    "# draw samples\n",
    "sampler = circuit.compile_detector_sampler(seed=int(100*error_prob))\n",
    "det, obv = sampler.sample(shots=trial_num, separate_observables=True)\n",
    "\n",
    "# Directly use the pymatching to decode DEM\n",
    "stim_result = count_logical_errors(dem, det, obv)\n",
    "\n",
    "pym_result = 0\n",
    "fail_num = 0\n",
    "ts = 0\n",
    "ne = 0\n",
    "for trial in range(0, trial_num):\n",
    "    syndrome = np.array(det[trial])\n",
    "    try:\n",
    "        t0 = time.perf_counter()\n",
    "        recover = planar_decoder.decode(syndrome, er, rep.pebz)#\n",
    "        Lr = (recover @ planar_decoder.lx.T)%2\n",
    "        ts += time.perf_counter() - t0\n",
    "        L = obv[trial][0]\n",
    "        \n",
    "        if Lr!=L:\n",
    "            fail_num += 1\n",
    "        \n",
    "        Lmw = mwpm(rep.hx, rep.lx, er, syndrome)\n",
    "        if Lmw!=L:\n",
    "            pym_result += 1\n",
    "\n",
    "\n",
    "    except Exception as e:\n",
    "        ne += 1\n",
    "        print('Error occurred in trial {}: {}'.format(trial, e))\n",
    "        print('{} errors occurred'.format(ne))\n",
    "        continue\n",
    "    \n",
    "\n",
    "    # if trial%100 == 0:\n",
    "    #     print('trial:',trial, 'T:',ts/(trial+1-ne), 'mw:', pym_result/(trial+1-ne), 'pl:',fail_num/(trial+1-ne))\n",
    "    \n",
    "print('number of numerical errors', ne)\n",
    "print('directly pym result:', stim_result/(trial_num-ne))\n",
    "print('pym result:', pym_result/(trial_num-ne))\n",
    "print('planar result:', fail_num/(trial_num-ne)) \n",
    "print('decoding time of planar:', ts/(trial_num-ne))\n"
   ]
  },
  {
   "cell_type": "markdown",
   "metadata": {},
   "source": [
    "# Subsample simulaition"
   ]
  },
  {
   "cell_type": "code",
   "execution_count": 5,
   "metadata": {},
   "outputs": [],
   "source": [
    "error_prob = 0.05 # probability of errors generation\n",
    "trial_num = 10000\n",
    "\n",
    "# higher distance code \n",
    "d = 5 # distance\n",
    "r = 3 # rounds\n",
    "\n",
    "circuit0 = stim.Circuit.generated(code_task=\"repetition_code:memory\",\n",
    "                                        distance=d,\n",
    "                                        rounds=r,\n",
    "                                        after_clifford_depolarization=error_prob,\n",
    "                                        before_measure_flip_probability=error_prob,\n",
    "                                        after_reset_flip_probability=error_prob,\n",
    "                                        )\n",
    "\n",
    "dem = circuit0.detector_error_model(decompose_errors=False, flatten_loops=True)\n",
    "sampler = circuit0.compile_sampler(seed=int(100*error_prob)) #compile_detector_sampler(seed=int(100*error_prob))\n",
    "samples = sampler.sample(shots=trial_num)\n",
    "det, obv = circuit0.compile_m2d_converter().convert(measurements=samples, separate_observables=True)\n"
   ]
  },
  {
   "cell_type": "code",
   "execution_count": 6,
   "metadata": {},
   "outputs": [
    {
     "name": "stdout",
     "output_type": "stream",
     "text": [
      "[0, 1, 4, 5, 8, 9, 12, 13]\n",
      "[0, 1, 2, 3, 5, 4, 12, 13, 14, 15, 17, 16, 24, 25, 26, 27, 29, 28, 36, 37, 38]\n",
      "[0.06216441442020722, 0.06216441442020722, 0.11659999999999988, 0.02666666666666654, 0.11659999999999988, 0.08551564565112939, 0.02666666666666654, 0.02666666666666654, 0.11659999999999988, 0.02666666666666654, 0.11659999999999988, 0.05191111111111087, 0.02666666666666654, 0.02666666666666654, 0.11659999999999988, 0.02666666666666654, 0.11659999999999988, 0.05191111111111087, 0.06216441442020721, 0.06216441442020721, 0.06216441442020721]\n",
      "[[(4, 6), (1, 2), (1, 6)], [(16, 18), (5, 6), (5, 10)], [(28, 30), (9, 10), (9, 14)]]\n"
     ]
    }
   ],
   "source": [
    "# lower distance code \n",
    "ds = 3\n",
    "subi=0\n",
    "\n",
    "subsample = subsamples(ds, d, r, dem)\n",
    "print(subsample[subi]['det'])\n",
    "print(subsample[subi]['em'])\n",
    "print(subsample[subi]['er'])\n",
    "print(subsample[subi]['merge_e'])"
   ]
  },
  {
   "cell_type": "code",
   "execution_count": 7,
   "metadata": {},
   "outputs": [
    {
     "name": "stdout",
     "output_type": "stream",
     "text": [
      "sub_idx: 0 mw: 757 pl: 731\n",
      "sub_idx: 1 mw: 959 pl: 907\n",
      "sub_idx: 2 mw: 803 pl: 771\n",
      "pym result: 0.08396666666666666\n",
      "planar result: 0.0803\n"
     ]
    }
   ],
   "source": [
    "# define the DEM-code and planar decoder\n",
    "circuit1 = stim.Circuit.generated(code_task=\"repetition_code:memory\", distance=ds, rounds=r,\n",
    "                                    after_clifford_depolarization=error_prob,\n",
    "                                    before_measure_flip_probability=error_prob,\n",
    "                                    after_reset_flip_probability=error_prob,)\n",
    "dems = circuit1.detector_error_model(decompose_errors=False, flatten_loops=True)\n",
    "rep = rep_cir(ds, r)\n",
    "rep.reorder(dems)\n",
    "planar_decoder = Planar_rep_cir(rep.hx, rep.hz, rep.lx, rep.lz)\n",
    "\n",
    "\n",
    "# simulation\n",
    "pym_result = 0\n",
    "fail_num = 0\n",
    "for i in range(len(subsample)):\n",
    "    detectors = subsample[i]['det']\n",
    "    er = subsample[i]['er']\n",
    "\n",
    "    dets = np.array(det)[:, detectors]\n",
    "    obvs = samples[:, -d+ds-1+i]\n",
    "\n",
    "    pym_result_sub = 0\n",
    "    fail_num_sub = 0\n",
    "    for trial in range(trial_num):\n",
    "        syndrome = dets[trial]\n",
    "        L = obvs[trial]\n",
    "\n",
    "        t0 = time.perf_counter()\n",
    "        recover = planar_decoder.decode(syndrome, er, rep.pebz)#\n",
    "        Lr = (recover @ planar_decoder.lx.T)%2\n",
    "        ts += time.perf_counter() - t0\n",
    "        if Lr!=L:\n",
    "            fail_num_sub += 1\n",
    "        \n",
    "        Lmw = mwpm(rep.hx, rep.lx, er, syndrome)\n",
    "        if Lmw!=L:\n",
    "            pym_result_sub += 1\n",
    "    pym_result+=pym_result_sub\n",
    "    fail_num+=fail_num_sub\n",
    "    print('sub_idx:', i, 'mw:',pym_result_sub, 'pl:', fail_num_sub)\n",
    "print('pym result:', pym_result/(d-ds+1)/trial_num)\n",
    "print('planar result:', fail_num/(d-ds+1)/trial_num)\n"
   ]
  },
  {
   "cell_type": "markdown",
   "metadata": {},
   "source": [
    "# Decoding (Rotated) Surface Code"
   ]
  },
  {
   "cell_type": "code",
   "execution_count": 8,
   "metadata": {},
   "outputs": [
    {
     "name": "stdout",
     "output_type": "stream",
     "text": [
      "MWPM results: [0.107, 0.173, 0.269, 0.345, 0.395]\n",
      "planar results: [0.098, 0.16, 0.239, 0.337, 0.389]\n"
     ]
    }
   ],
   "source": [
    "from planar import Planar, generate_error, cal_syndrome, pymatching_decoder_warpper, decoding_success\n",
    "from codes import gen_surface_code, gen_rotated_surface_code\n",
    "from scipy.linalg import block_diag\n",
    "\n",
    "\n",
    "code_type = 'sc' # 'rsc'\n",
    "d=5\n",
    "trial_num = 1000\n",
    "error_type = 'depolarizing'\n",
    "error_rates = np.linspace(0.1, 0.2, 5)\n",
    "# print(error_rates)\n",
    "\n",
    "if code_type == 'sc':\n",
    "    n, m, hx, hz, lx, lz = gen_surface_code(d)\n",
    "elif code_type == 'rsc':\n",
    "    n, m, hx, hz, lx, lz = gen_rotated_surface_code(d)\n",
    "assert not (hx @ lz.T % 2).any()\n",
    "assert not (hz @ lx.T % 2).any()\n",
    "stabilizers = block_diag(*(hz, hx))\n",
    "\n",
    "\n",
    "planar_decoder = Planar(hx, hz, lx, lz)\n",
    "matching_decoder = pymatching_decoder_warpper(hx, hz)\n",
    "decoders = [matching_decoder, planar_decoder]\n",
    "\n",
    "\n",
    "\n",
    "\n",
    "\n",
    "mw = []\n",
    "pl = []\n",
    "for error_rate in error_rates:\n",
    "\n",
    "    if error_type == 'depolarizing':\n",
    "        error_prob = np.array([1-error_rate, error_rate/3, error_rate/3, error_rate/3])\n",
    "    elif error_type == 'z':\n",
    "        error_prob = np.array([1-error_rate, 0.0, error_rate, 0.0])\n",
    "    elif error_type == 'x':\n",
    "        error_prob = np.array([1-error_rate, error_rate, 0.0, 0.0])\n",
    "    elif error_type == 'uncorrelated':\n",
    "        error_prob = np.array([(1-error_rate)**2, error_rate*(1-error_rate), error_rate*(1-error_rate), error_rate**2])\n",
    "\n",
    "    rng = np.random.default_rng(int(1000*error_rate))\n",
    "\n",
    "    fail_num = [0] * len(decoders)\n",
    "    ts = [0] * len(decoders)\n",
    "    for decoder in decoders:\n",
    "        if type(decoder) == pymatching_decoder_warpper:\n",
    "            decoder._set_up_decoder(error_prob)\n",
    "\n",
    "    for trial in range(trial_num):\n",
    "        error = generate_error(n, error_prob, rng)\n",
    "        syndrome = cal_syndrome(error, stabilizers)\n",
    "        # print(error)\n",
    "        for j, decoder in enumerate(decoders):\n",
    "            t0 = time.perf_counter()\n",
    "            recovery = decoder.decode(syndrome, error_prob)\n",
    "            ts[j] += time.perf_counter() - t0\n",
    "            success = decoding_success(lx, lz, recovery, error)\n",
    "            if not success:\n",
    "                fail_num[j] += 1\n",
    "    mw.append(fail_num[0]/trial_num)\n",
    "    pl.append(fail_num[1]/trial_num)\n",
    "\n",
    "print('MWPM results:', mw)\n",
    "print('planar results:', pl)"
   ]
  }
 ],
 "metadata": {
  "kernelspec": {
   "display_name": "chy",
   "language": "python",
   "name": "python3"
  },
  "language_info": {
   "codemirror_mode": {
    "name": "ipython",
    "version": 3
   },
   "file_extension": ".py",
   "mimetype": "text/x-python",
   "name": "python",
   "nbconvert_exporter": "python",
   "pygments_lexer": "ipython3",
   "version": "3.9.0"
  }
 },
 "nbformat": 4,
 "nbformat_minor": 2
}
